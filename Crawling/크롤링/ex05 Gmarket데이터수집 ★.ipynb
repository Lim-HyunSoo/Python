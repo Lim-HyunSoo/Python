{
 "cells": [
  {
   "cell_type": "markdown",
   "id": "ec5e3798",
   "metadata": {},
   "source": [
    "# Gmarket Top 10 가져오기!"
   ]
  },
  {
   "cell_type": "code",
   "execution_count": 1,
   "id": "89308d82",
   "metadata": {},
   "outputs": [],
   "source": [
    "from selenium import webdriver as wb\n",
    "import pandas as pd\n",
    "import time"
   ]
  },
  {
   "cell_type": "code",
   "execution_count": 2,
   "id": "6903c1b2",
   "metadata": {},
   "outputs": [],
   "source": [
    "driver = wb.Chrome()\n",
    "driver.get(\"http://corners.gmarket.co.kr/Bestsellers\")"
   ]
  },
  {
   "cell_type": "code",
   "execution_count": 10,
   "id": "752995cf",
   "metadata": {
    "collapsed": true
   },
   "outputs": [
    {
     "name": "stderr",
     "output_type": "stream",
     "text": [
      "C:\\Users\\smhrd\\AppData\\Local\\Temp/ipykernel_2112/483961250.py:2: DeprecationWarning: find_elements_by_css_selector is deprecated. Please use find_elements(by=By.CSS_SELECTOR, value=css_selector) instead\n",
      "  imgs = driver.find_elements_by_css_selector(\"img.lazy\")\n"
     ]
    }
   ],
   "source": [
    "# 1. 이미지 클릭해서 상품으로 이동\n",
    "imgs = driver.find_elements_by_css_selector(\"img.lazy\")"
   ]
  },
  {
   "cell_type": "code",
   "execution_count": 11,
   "id": "d8759dad",
   "metadata": {},
   "outputs": [],
   "source": [
    "imgs[1].click()"
   ]
  },
  {
   "cell_type": "code",
   "execution_count": 12,
   "id": "42ef6e88",
   "metadata": {
    "collapsed": true
   },
   "outputs": [
    {
     "name": "stderr",
     "output_type": "stream",
     "text": [
      "C:\\Users\\smhrd\\AppData\\Local\\Temp/ipykernel_2112/3797490276.py:2: DeprecationWarning: find_element_by_css_selector is deprecated. Please use find_element(by=By.CSS_SELECTOR, value=css_selector) instead\n",
      "  menu = driver.find_element_by_css_selector(\"#itemcase_basic > div.box__item-title > h1\")\n"
     ]
    },
    {
     "data": {
      "text/plain": [
       "'아우라 드라이시트 스윗만다린 120매 + 윌유 10매'"
      ]
     },
     "execution_count": 12,
     "metadata": {},
     "output_type": "execute_result"
    }
   ],
   "source": [
    "# 가격정보,메뉴명\n",
    "menu = driver.find_element_by_css_selector(\"#itemcase_basic > div.box__item-title > h1\")\n",
    "menu.text"
   ]
  },
  {
   "cell_type": "code",
   "execution_count": 13,
   "id": "4a6db6fe",
   "metadata": {
    "collapsed": true
   },
   "outputs": [
    {
     "name": "stderr",
     "output_type": "stream",
     "text": [
      "C:\\Users\\smhrd\\AppData\\Local\\Temp/ipykernel_2112/74620886.py:1: DeprecationWarning: find_element_by_css_selector is deprecated. Please use find_element(by=By.CSS_SELECTOR, value=css_selector) instead\n",
      "  price = driver.find_element_by_css_selector(\"#itemcase_basic > div.box__item-title > p > span > strong\")\n"
     ]
    },
    {
     "data": {
      "text/plain": [
       "'14,200원'"
      ]
     },
     "execution_count": 13,
     "metadata": {},
     "output_type": "execute_result"
    }
   ],
   "source": [
    "price = driver.find_element_by_css_selector(\"#itemcase_basic > div.box__item-title > p > span > strong\")\n",
    "price.text"
   ]
  },
  {
   "cell_type": "code",
   "execution_count": 14,
   "id": "4d2e0f72",
   "metadata": {},
   "outputs": [],
   "source": [
    "# 페이지 뒤로이동!\n",
    "driver.back()"
   ]
  },
  {
   "cell_type": "code",
   "execution_count": null,
   "id": "086e3b2f",
   "metadata": {},
   "outputs": [],
   "source": [
    "# 메뉴와 가격의 글자정보만 담아주는 리스트를 제작"
   ]
  },
  {
   "cell_type": "code",
   "execution_count": 15,
   "id": "a79b4427",
   "metadata": {
    "collapsed": true
   },
   "outputs": [
    {
     "name": "stderr",
     "output_type": "stream",
     "text": [
      "C:\\Users\\smhrd\\AppData\\Local\\Temp/ipykernel_2112/3222452115.py:2: DeprecationWarning: find_elements_by_css_selector is deprecated. Please use find_elements(by=By.CSS_SELECTOR, value=css_selector) instead\n",
      "  imgs = driver.find_elements_by_css_selector(\"img.lazy\")\n",
      "C:\\Users\\smhrd\\AppData\\Local\\Temp/ipykernel_2112/3222452115.py:5: DeprecationWarning: find_element_by_css_selector is deprecated. Please use find_element(by=By.CSS_SELECTOR, value=css_selector) instead\n",
      "  menu = driver.find_element_by_css_selector(\"#itemcase_basic > div.box__item-title > h1\")\n",
      "C:\\Users\\smhrd\\AppData\\Local\\Temp/ipykernel_2112/3222452115.py:6: DeprecationWarning: find_element_by_css_selector is deprecated. Please use find_element(by=By.CSS_SELECTOR, value=css_selector) instead\n",
      "  price = driver.find_element_by_css_selector(\"#itemcase_basic > div.box__item-title > p > span > strong\")\n"
     ]
    }
   ],
   "source": [
    "menuList = []\n",
    "priceList = []\n",
    "for i in range(10) :\n",
    "    imgs = driver.find_elements_by_css_selector(\"img.lazy\")\n",
    "    imgs[i].click()\n",
    "    time.sleep(1)\n",
    "    menu = driver.find_element_by_css_selector(\"#itemcase_basic > div.box__item-title > h1\")\n",
    "    price = driver.find_element_by_css_selector(\"#itemcase_basic > div.box__item-title > p > span > strong\")   \n",
    "    menuList.append(menu.text)\n",
    "    priceList.append(price.text)\n",
    "    driver.back()\n",
    "    time.sleep(1)\n",
    "dic = {\"메뉴\" : menuList, \"가격\" : priceList}\n",
    "gmarket = pd.DataFrame(dic)\n",
    "gmarket.to_csv(\"지마켓.csv\", encoding=\"euc-kr\")"
   ]
  },
  {
   "cell_type": "code",
   "execution_count": null,
   "id": "f293364c",
   "metadata": {},
   "outputs": [],
   "source": [
    "# 데이터프레임 제작\n",
    "# csv파일 한글깨지지않게 작성"
   ]
  }
 ],
 "metadata": {
  "kernelspec": {
   "display_name": "Python 3 (ipykernel)",
   "language": "python",
   "name": "python3"
  },
  "language_info": {
   "codemirror_mode": {
    "name": "ipython",
    "version": 3
   },
   "file_extension": ".py",
   "mimetype": "text/x-python",
   "name": "python",
   "nbconvert_exporter": "python",
   "pygments_lexer": "ipython3",
   "version": "3.9.7"
  }
 },
 "nbformat": 4,
 "nbformat_minor": 5
}
