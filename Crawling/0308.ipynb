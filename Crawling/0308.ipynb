{
 "cells": [
  {
   "cell_type": "markdown",
   "id": "9ec7e8bb",
   "metadata": {},
   "source": [
    "# G마켓 TOP 10 가져오기"
   ]
  },
  {
   "cell_type": "code",
   "execution_count": 6,
   "id": "0cc5d584",
   "metadata": {},
   "outputs": [],
   "source": [
    "from selenium import webdriver as wb\n",
    "from selenium.webdriver.common.keys import Keys\n",
    "import pandas as pd\n",
    "import time"
   ]
  },
  {
   "cell_type": "code",
   "execution_count": 39,
   "id": "31eefb7f",
   "metadata": {},
   "outputs": [],
   "source": [
    "driver = wb.Chrome()"
   ]
  },
  {
   "cell_type": "code",
   "execution_count": 40,
   "id": "6d8c715d",
   "metadata": {},
   "outputs": [],
   "source": [
    "driver.get(\"http://corners.gmarket.co.kr/Bestsellers\")"
   ]
  },
  {
   "cell_type": "code",
   "execution_count": 15,
   "id": "e1393567",
   "metadata": {
    "scrolled": true
   },
   "outputs": [
    {
     "name": "stderr",
     "output_type": "stream",
     "text": [
      "C:\\Users\\smhrd\\AppData\\Local\\Temp/ipykernel_10464/535278432.py:5: DeprecationWarning: find_elements_by_css_selector is deprecated. Please use find_elements(by=By.CSS_SELECTOR, value=css_selector) instead\n",
      "  imgs = driver.find_elements_by_css_selector(\"img.lazy\")\n"
     ]
    }
   ],
   "source": [
    "#item_id = \"no\" + str(1)\n",
    "#item = driver.find_element_by_css_selector(item_id+\".lazy\")\n",
    "#item.click()\n",
    "\n",
    "imgs = driver.find_elements_by_css_selector(\"img.lazy\")"
   ]
  },
  {
   "cell_type": "code",
   "execution_count": 16,
   "id": "ad247754",
   "metadata": {},
   "outputs": [],
   "source": [
    "imgs[0].click()"
   ]
  },
  {
   "cell_type": "code",
   "execution_count": 35,
   "id": "79f420a0",
   "metadata": {},
   "outputs": [
    {
     "name": "stderr",
     "output_type": "stream",
     "text": [
      "C:\\Users\\smhrd\\AppData\\Local\\Temp/ipykernel_10464/3834904119.py:1: DeprecationWarning: find_element_by_css_selector is deprecated. Please use find_element(by=By.CSS_SELECTOR, value=css_selector) instead\n",
      "  name =  driver.find_element_by_css_selector(\"#itemcase_basic > div.box__item-title > h1\")\n"
     ]
    },
    {
     "data": {
      "text/plain": [
       "'(21년산/삼광/특) 아산맑은쌀 삼광 10KG'"
      ]
     },
     "execution_count": 35,
     "metadata": {},
     "output_type": "execute_result"
    }
   ],
   "source": [
    "name =  driver.find_element_by_css_selector(\"#itemcase_basic > div.box__item-title > h1\")\n",
    "name.text"
   ]
  },
  {
   "cell_type": "code",
   "execution_count": 36,
   "id": "30577128",
   "metadata": {},
   "outputs": [
    {
     "name": "stderr",
     "output_type": "stream",
     "text": [
      "C:\\Users\\smhrd\\AppData\\Local\\Temp/ipykernel_10464/74620886.py:1: DeprecationWarning: find_element_by_css_selector is deprecated. Please use find_element(by=By.CSS_SELECTOR, value=css_selector) instead\n",
      "  price = driver.find_element_by_css_selector(\"#itemcase_basic > div.box__item-title > p > span > strong\")\n"
     ]
    },
    {
     "data": {
      "text/plain": [
       "'32,970원'"
      ]
     },
     "execution_count": 36,
     "metadata": {},
     "output_type": "execute_result"
    }
   ],
   "source": [
    "price = driver.find_element_by_css_selector(\"#itemcase_basic > div.box__item-title > p > span > strong\")\n",
    "price.text"
   ]
  },
  {
   "cell_type": "code",
   "execution_count": 38,
   "id": "1b4d5bc2",
   "metadata": {},
   "outputs": [],
   "source": [
    "from tqdm import tqdm_notebook as tq"
   ]
  },
  {
   "cell_type": "code",
   "execution_count": 47,
   "id": "372bd67e",
   "metadata": {
    "collapsed": true
   },
   "outputs": [
    {
     "name": "stderr",
     "output_type": "stream",
     "text": [
      "C:\\Users\\smhrd\\AppData\\Local\\Temp/ipykernel_10464/2346328468.py:3: TqdmDeprecationWarning: This function will be removed in tqdm==5.0.0\n",
      "Please use `tqdm.notebook.tqdm` instead of `tqdm.tqdm_notebook`\n",
      "  for i in tq(range(10)):\n"
     ]
    },
    {
     "data": {
      "application/vnd.jupyter.widget-view+json": {
       "model_id": "1ca020984e5d451c83556c2d45e6500b",
       "version_major": 2,
       "version_minor": 0
      },
      "text/plain": [
       "  0%|          | 0/10 [00:00<?, ?it/s]"
      ]
     },
     "metadata": {},
     "output_type": "display_data"
    },
    {
     "name": "stderr",
     "output_type": "stream",
     "text": [
      "C:\\Users\\smhrd\\AppData\\Local\\Temp/ipykernel_10464/2346328468.py:4: DeprecationWarning: find_elements_by_css_selector is deprecated. Please use find_elements(by=By.CSS_SELECTOR, value=css_selector) instead\n",
      "  imgs = driver.find_elements_by_css_selector(\"img.lazy\")\n",
      "C:\\Users\\smhrd\\AppData\\Local\\Temp/ipykernel_10464/2346328468.py:7: DeprecationWarning: find_element_by_css_selector is deprecated. Please use find_element(by=By.CSS_SELECTOR, value=css_selector) instead\n",
      "  name =  driver.find_element_by_css_selector(\"#itemcase_basic > div.box__item-title > h1\")\n",
      "C:\\Users\\smhrd\\AppData\\Local\\Temp/ipykernel_10464/2346328468.py:8: DeprecationWarning: find_element_by_css_selector is deprecated. Please use find_element(by=By.CSS_SELECTOR, value=css_selector) instead\n",
      "  price = driver.find_element_by_css_selector(\"#itemcase_basic > div.box__item-title > p > span > strong\")\n"
     ]
    }
   ],
   "source": [
    "nameList = []\n",
    "priceList = []\n",
    "for i in tq(range(10)):\n",
    "    imgs = driver.find_elements_by_css_selector(\"img.lazy\")\n",
    "    imgs[i].click()\n",
    "    time.sleep(1)\n",
    "    name =  driver.find_element_by_css_selector(\"#itemcase_basic > div.box__item-title > h1\")\n",
    "    price = driver.find_element_by_css_selector(\"#itemcase_basic > div.box__item-title > p > span > strong\")\n",
    "    nameList.append(name.text)\n",
    "    priceList.append(price.text)\n",
    "    driver.back()\n",
    "    time.sleep(1)"
   ]
  },
  {
   "cell_type": "code",
   "execution_count": 62,
   "id": "ad702fd6",
   "metadata": {
    "collapsed": true
   },
   "outputs": [
    {
     "name": "stdout",
     "output_type": "stream",
     "text": [
      "(21년산/삼광/특) 아산맑은쌀 삼광 10KG 32,970원\n",
      "피지오겔 DMT 크림 150ml 2개 +크림10+클렌징젤30 47,900원\n",
      "아우라 드라이시트 스윗만다린 120매 + 윌유 10매 14,200원\n",
      "생 칵테일새우 900-1kg 60-80미 19,900원\n",
      "아우라 드라이시트 윌유메리미 120매 + 10매 14,200원\n",
      "창의사고력 팩토 / 원리연산 소마셈 - 공동구매 72,360원\n",
      "위즈덤-별별한국사세트(7권) 80,000원\n",
      "부광 안티프라그10입+좋은칫솔10입+블렌닥스10입+증정 8,900원\n",
      "(스마일캐시3만)다이슨 에어랩 스타일러 볼륨앤쉐이프 559,550원\n",
      "맛있는 오뚜기밥 210g x 24개입(1박스) 20,900원\n"
     ]
    }
   ],
   "source": [
    "for i in range(len(nameList)):\n",
    "    print(nameList[i], priceList[i])"
   ]
  },
  {
   "cell_type": "code",
   "execution_count": 65,
   "id": "cc891b61",
   "metadata": {
    "collapsed": true
   },
   "outputs": [
    {
     "data": {
      "text/html": [
       "<div>\n",
       "<style scoped>\n",
       "    .dataframe tbody tr th:only-of-type {\n",
       "        vertical-align: middle;\n",
       "    }\n",
       "\n",
       "    .dataframe tbody tr th {\n",
       "        vertical-align: top;\n",
       "    }\n",
       "\n",
       "    .dataframe thead th {\n",
       "        text-align: right;\n",
       "    }\n",
       "</style>\n",
       "<table border=\"1\" class=\"dataframe\">\n",
       "  <thead>\n",
       "    <tr style=\"text-align: right;\">\n",
       "      <th></th>\n",
       "      <th>상품 이름</th>\n",
       "      <th>가격</th>\n",
       "    </tr>\n",
       "  </thead>\n",
       "  <tbody>\n",
       "    <tr>\n",
       "      <th>1</th>\n",
       "      <td>(21년산/삼광/특) 아산맑은쌀 삼광 10KG</td>\n",
       "      <td>32,970원</td>\n",
       "    </tr>\n",
       "    <tr>\n",
       "      <th>2</th>\n",
       "      <td>피지오겔 DMT 크림 150ml 2개 +크림10+클렌징젤30</td>\n",
       "      <td>47,900원</td>\n",
       "    </tr>\n",
       "    <tr>\n",
       "      <th>3</th>\n",
       "      <td>아우라 드라이시트 스윗만다린 120매 + 윌유 10매</td>\n",
       "      <td>14,200원</td>\n",
       "    </tr>\n",
       "    <tr>\n",
       "      <th>4</th>\n",
       "      <td>생 칵테일새우 900-1kg 60-80미</td>\n",
       "      <td>19,900원</td>\n",
       "    </tr>\n",
       "    <tr>\n",
       "      <th>5</th>\n",
       "      <td>아우라 드라이시트 윌유메리미 120매 + 10매</td>\n",
       "      <td>14,200원</td>\n",
       "    </tr>\n",
       "    <tr>\n",
       "      <th>6</th>\n",
       "      <td>창의사고력 팩토 / 원리연산 소마셈 - 공동구매</td>\n",
       "      <td>72,360원</td>\n",
       "    </tr>\n",
       "    <tr>\n",
       "      <th>7</th>\n",
       "      <td>위즈덤-별별한국사세트(7권)</td>\n",
       "      <td>80,000원</td>\n",
       "    </tr>\n",
       "    <tr>\n",
       "      <th>8</th>\n",
       "      <td>부광 안티프라그10입+좋은칫솔10입+블렌닥스10입+증정</td>\n",
       "      <td>8,900원</td>\n",
       "    </tr>\n",
       "    <tr>\n",
       "      <th>9</th>\n",
       "      <td>(스마일캐시3만)다이슨 에어랩 스타일러 볼륨앤쉐이프</td>\n",
       "      <td>559,550원</td>\n",
       "    </tr>\n",
       "    <tr>\n",
       "      <th>10</th>\n",
       "      <td>맛있는 오뚜기밥 210g x 24개입(1박스)</td>\n",
       "      <td>20,900원</td>\n",
       "    </tr>\n",
       "  </tbody>\n",
       "</table>\n",
       "</div>"
      ],
      "text/plain": [
       "                                상품 이름        가격\n",
       "1           (21년산/삼광/특) 아산맑은쌀 삼광 10KG   32,970원\n",
       "2   피지오겔 DMT 크림 150ml 2개 +크림10+클렌징젤30   47,900원\n",
       "3       아우라 드라이시트 스윗만다린 120매 + 윌유 10매   14,200원\n",
       "4              생 칵테일새우 900-1kg 60-80미   19,900원\n",
       "5          아우라 드라이시트 윌유메리미 120매 + 10매   14,200원\n",
       "6          창의사고력 팩토 / 원리연산 소마셈 - 공동구매   72,360원\n",
       "7                     위즈덤-별별한국사세트(7권)   80,000원\n",
       "8      부광 안티프라그10입+좋은칫솔10입+블렌닥스10입+증정    8,900원\n",
       "9        (스마일캐시3만)다이슨 에어랩 스타일러 볼륨앤쉐이프  559,550원\n",
       "10          맛있는 오뚜기밥 210g x 24개입(1박스)   20,900원"
      ]
     },
     "execution_count": 65,
     "metadata": {},
     "output_type": "execute_result"
    }
   ],
   "source": [
    "data = {\"상품 이름\":nameList, \"가격\":priceList}\n",
    "df = pd.DataFrame(data)\n",
    "df.index = df.index + 1\n",
    "df"
   ]
  },
  {
   "cell_type": "code",
   "execution_count": 1,
   "id": "9031b462",
   "metadata": {},
   "outputs": [
    {
     "ename": "NameError",
     "evalue": "name 'df' is not defined",
     "output_type": "error",
     "traceback": [
      "\u001b[1;31m---------------------------------------------------------------------------\u001b[0m",
      "\u001b[1;31mNameError\u001b[0m                                 Traceback (most recent call last)",
      "\u001b[1;32m~\\AppData\\Local\\Temp/ipykernel_10744/228773425.py\u001b[0m in \u001b[0;36m<module>\u001b[1;34m\u001b[0m\n\u001b[1;32m----> 1\u001b[1;33m \u001b[0mdf\u001b[0m\u001b[1;33m.\u001b[0m\u001b[0mto_csv\u001b[0m\u001b[1;33m(\u001b[0m\u001b[1;34m\"GMARKET_TOP_10.csv\"\u001b[0m\u001b[1;33m,\u001b[0m \u001b[0mencoding\u001b[0m \u001b[1;33m=\u001b[0m \u001b[1;34m\"euc-kr\"\u001b[0m\u001b[1;33m)\u001b[0m\u001b[1;33m\u001b[0m\u001b[1;33m\u001b[0m\u001b[0m\n\u001b[0m",
      "\u001b[1;31mNameError\u001b[0m: name 'df' is not defined"
     ]
    }
   ],
   "source": [
    "df.to_csv(\"GMARKET_TOP_10.csv\", encoding = \"euc-kr\")"
   ]
  },
  {
   "cell_type": "code",
   "execution_count": 67,
   "id": "e68bc903",
   "metadata": {},
   "outputs": [],
   "source": [
    "driver.quit()"
   ]
  }
 ],
 "metadata": {
  "kernelspec": {
   "display_name": "Python 3 (ipykernel)",
   "language": "python",
   "name": "python3"
  },
  "language_info": {
   "codemirror_mode": {
    "name": "ipython",
    "version": 3
   },
   "file_extension": ".py",
   "mimetype": "text/x-python",
   "name": "python",
   "nbconvert_exporter": "python",
   "pygments_lexer": "ipython3",
   "version": "3.9.7"
  }
 },
 "nbformat": 4,
 "nbformat_minor": 5
}
